{
 "cells": [
  {
   "cell_type": "code",
   "execution_count": null,
   "metadata": {},
   "outputs": [],
   "source": [
    "!pip install -r requirements.txt"
   ]
  },
  {
   "cell_type": "markdown",
   "metadata": {},
   "source": [
    "Install tesseract OCR from https://github.com/tesseract-ocr/tesseract"
   ]
  },
  {
   "cell_type": "code",
   "execution_count": null,
   "metadata": {},
   "outputs": [],
   "source": [
    "!pip install pytesseract"
   ]
  },
  {
   "cell_type": "code",
   "execution_count": null,
   "metadata": {},
   "outputs": [],
   "source": [
    "!python detect.py --weights best.pt --source test --conf 0.25 --save-txt --save-conf"
   ]
  },
  {
   "cell_type": "markdown",
   "metadata": {},
   "source": [
    "Before executing the below cell\n",
    "replace images_path with the YOLO output folder created while executing the previous cell"
   ]
  },
  {
   "cell_type": "code",
   "execution_count": null,
   "metadata": {},
   "outputs": [],
   "source": [
    "import os\n",
    "import cv2\n",
    "from PIL import Image\n",
    "import pytesseract\n",
    "import re\n",
    "\n",
    "pytesseract.pytesseract.tesseract_cmd = r'C:\\Program Files\\Tesseract-OCR\\tesseract.exe'\n",
    "images_path = 'runs/detect/exp2/'  # Replace with your YOLO output folder\n",
    "labels_path = os.path.join(images_path, 'labels')  \n",
    "\n",
    "ocr_config = '--psm 7'  \n",
    "\n",
    "for label_file in os.listdir(labels_path):\n",
    "    if label_file.endswith('.txt'):\n",
    "        image_file = label_file.replace('.txt', '.jpg')  \n",
    "        image_path = os.path.join(images_path, image_file)\n",
    "\n",
    "        img = cv2.imread(image_path)\n",
    "        with open(os.path.join(labels_path, label_file), 'r') as f:\n",
    "            for line in f:\n",
    "                _, x, y, w, h, _ = map(float, line.split())\n",
    "\n",
    "                h_img, w_img, _ = img.shape\n",
    "                x1 = int((x - w / 2) * w_img)\n",
    "                y1 = int((y - h / 2) * h_img)\n",
    "                x2 = int((x + w / 2) * w_img)\n",
    "                y2 = int((y + h / 2) * h_img)\n",
    "\n",
    "                crop = img[y1:y2, x1:x2]\n",
    "\n",
    "                text = pytesseract.image_to_string(crop, config=ocr_config).strip()\n",
    "\n",
    "def clean_number_plate_text(detected_text):\n",
    "    cleaned_text = re.sub(r'[^A-Za-z0-9]', '', detected_text)\n",
    "    \n",
    "    return cleaned_text\n",
    "\n",
    "cleaned_text = clean_number_plate_text(text)\n",
    "print(f\"Detected text for {image_file}: {cleaned_text}\")\n"
   ]
  }
 ],
 "metadata": {
  "kernelspec": {
   "display_name": "Python 3",
   "language": "python",
   "name": "python3"
  },
  "language_info": {
   "codemirror_mode": {
    "name": "ipython",
    "version": 3
   },
   "file_extension": ".py",
   "mimetype": "text/x-python",
   "name": "python",
   "nbconvert_exporter": "python",
   "pygments_lexer": "ipython3",
   "version": "3.10.8"
  }
 },
 "nbformat": 4,
 "nbformat_minor": 2
}
